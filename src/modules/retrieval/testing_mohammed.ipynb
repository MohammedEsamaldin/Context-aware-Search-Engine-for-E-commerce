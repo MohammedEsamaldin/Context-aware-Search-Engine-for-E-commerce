{
 "cells": [
  {
   "cell_type": "code",
   "execution_count": 24,
   "metadata": {},
   "outputs": [
    {
     "name": "stdout",
     "output_type": "stream",
     "text": [
      "code strted\n",
      "data read, data combining\n",
      "data combination completed!\n",
      "Using device: mps\n",
      "code finished!!\n",
      "Building index because it doesn't exist.\n",
      "   Product ID                                      Product Title  Distance\n",
      "0  B00AYNRLFA  Belkin MIXIT - Base de carga y sincronización ...    1.0959\n",
      "1  B0716LV2HV  AirPods Case Protective, FRTMA Silicone Skin C...    1.1080\n",
      "2  B01BY5JC26  AUKEY Bateria Externa 20000mAh Power Bank con ...    1.1272\n",
      "3  B07YJL253D  YARBER Batería para iPhone 6 Plus, Alta Capaci...    1.1296\n",
      "4  B01LSUZDWU  Apple iPhone 7 Plus 128 GB Negro mate - Smartp...    1.1330\n"
     ]
    }
   ],
   "source": [
    "import pandas as pd \n",
    "from sentence_transformers import SentenceTransformer\n",
    "from annoy import AnnoyIndex\n",
    "from vector_retrieval_model import ProductSearchEngine\n",
    "import numpy as np\n",
    "import os\n",
    "import torch\n",
    "print(\"code strted\")\n",
    "df_product = pd.read_parquet('/Users/mohammed/Desktop/Context-aware-Search-Engine-for-E-commerce/data/shopping_queries_dataset_products.parquet')\n",
    "product_df = df_product.head(10000).copy()\n",
    "print(\"data read, data combining\")\n",
    "# Combine all relevant fields into a single string for each product\n",
    "product_df = product_df.fillna('')\n",
    "product_df['combined_text'] = (\n",
    "    product_df['product_title'] + ' ' +\n",
    "    product_df['product_description'] + ' ' +\n",
    "    product_df['product_bullet_point'] + ' ' +\n",
    "    product_df['product_brand'] + ' ' +\n",
    "    product_df['product_color'] + ' ' +\n",
    "    product_df['product_locale']\n",
    ")\n",
    "print(\"data combination completed!\")\n",
    "device = 'mps' if torch.mps.is_available() else 'cpu'\n",
    "print(f\"Using device: {device}\")\n",
    "\n",
    "# Initialize the Sentence-BERT model\n",
    "model = SentenceTransformer('paraphrase-MiniLM-L6-v2', device=device)  # or another model\n",
    "\n",
    "# Vectorize the combined text (convert text into embeddings)\n",
    "product_embeddings = model.encode(product_df['combined_text'].dropna().tolist())\n",
    "print(\"code finished!!\")\n",
    "\n",
    "embedding_dim = product_embeddings.shape[1]\n",
    "if not os.path.exists('product_index.ann'):\n",
    "    print(\"Building index because it doesn't exist.\")\n",
    "    ProductSearchEngine.build_index(product_embeddings, 'product_index.ann')\n",
    "\n",
    "# Load the index and search\n",
    "engine = ProductSearchEngine(embedding_dim=embedding_dim, index_path='product_index.ann', product_df=product_df)\n",
    "\n",
    "query = \"iPhone 12 case\"\n",
    "query_embedding = model.encode([query])[0]\n",
    "results_df = engine.search(query_embedding, k=5)\n",
    "print(results_df)\n"
   ]
  },
  {
   "cell_type": "code",
   "execution_count": 28,
   "metadata": {},
   "outputs": [
    {
     "name": "stdout",
     "output_type": "stream",
     "text": [
      "Auriculares Bluetooth Auriculares Inalámbricos Bluetooth táctiles 3D estéreo HD Micrófono Auricular Emparejamiento Automático de llamadas Binaurales para Apple Airpods Pro Android iPhone 11\n",
      "AirPods Case Protective, FRTMA Silicone Skin Case with Sport Strap for Apple AirPods (Red)\n",
      "FRTMA Protective Case Compatible with AirPods Pro [2019 Release], Full-Body Waterproof Protective AirPods Carrying Case Shockproof Cover Skin Supports AirPods 3, Midnight Blue\n",
      "Auriculares Inalámbricos Bluetooth 5.0 con Caja de Carga Rápida, HIFI Estéreo Auriculares con HD Mic, Auriculares Inalámbricos para iPhone Airpods pro Samsung Android y Otros Teléfonos Inteligentes\n",
      "fghdjjfdh Auriculares Bluetooth, Auriculares inalámbricos Bluetooth In-Ear Mini Auriculares Auriculares Deportivos para Apple Airpods iPhone, Android Negro\n"
     ]
    }
   ],
   "source": [
    "query = \"AirPods 3 Iphone 12\"\n",
    "query_embedding = model.encode([query])[0]\n",
    "results_df = engine.search(query_embedding, k=5)\n",
    "for title in results_df[\"Product Title\"]:\n",
    "    print(title)\n",
    "\n"
   ]
  }
 ],
 "metadata": {
  "kernelspec": {
   "display_name": "Python 3",
   "language": "python",
   "name": "python3"
  },
  "language_info": {
   "codemirror_mode": {
    "name": "ipython",
    "version": 3
   },
   "file_extension": ".py",
   "mimetype": "text/x-python",
   "name": "python",
   "nbconvert_exporter": "python",
   "pygments_lexer": "ipython3",
   "version": "3.9.6"
  }
 },
 "nbformat": 4,
 "nbformat_minor": 2
}
