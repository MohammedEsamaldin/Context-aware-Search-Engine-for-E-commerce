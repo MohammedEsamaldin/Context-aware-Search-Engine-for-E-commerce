{
 "cells": [
  {
   "cell_type": "code",
   "execution_count": 24,
   "metadata": {},
   "outputs": [
    {
     "name": "stdout",
     "output_type": "stream",
     "text": [
      "code strted\n",
      "data read, data combining\n",
      "data combination completed!\n",
      "Using device: mps\n",
      "code finished!!\n",
      "Building index because it doesn't exist.\n",
      "   Product ID                                      Product Title  Distance\n",
      "0  B00AYNRLFA  Belkin MIXIT - Base de carga y sincronización ...    1.0959\n",
      "1  B0716LV2HV  AirPods Case Protective, FRTMA Silicone Skin C...    1.1080\n",
      "2  B01BY5JC26  AUKEY Bateria Externa 20000mAh Power Bank con ...    1.1272\n",
      "3  B07YJL253D  YARBER Batería para iPhone 6 Plus, Alta Capaci...    1.1296\n",
      "4  B01LSUZDWU  Apple iPhone 7 Plus 128 GB Negro mate - Smartp...    1.1330\n"
     ]
    }
   ],
   "source": [
    "import pandas as pd \n",
    "from sentence_transformers import SentenceTransformer\n",
    "from annoy import AnnoyIndex\n",
    "from vector_retrieval_model import ProductSearchEngine\n",
    "import numpy as np\n",
    "import os\n",
    "import torch\n",
    "print(\"code strted\")\n",
    "df_product = pd.read_parquet('/Users/mohammed/Desktop/Context-aware-Search-Engine-for-E-commerce/data/shopping_queries_dataset_products.parquet')\n",
    "product_df = df_product.head(10000).copy()\n",
    "print(\"data read, data combining\")\n",
    "# Combine all relevant fields into a single string for each product\n",
    "product_df = product_df.fillna('')\n",
    "product_df['combined_text'] = (\n",
    "    product_df['product_title'] + ' ' +\n",
    "    product_df['product_description'] + ' ' +\n",
    "    product_df['product_bullet_point'] + ' ' +\n",
    "    product_df['product_brand'] + ' ' +\n",
    "    product_df['product_color'] + ' ' +\n",
    "    product_df['product_locale']\n",
    ")\n",
    "print(\"data combination completed!\")\n",
    "device = 'mps' if torch.mps.is_available() else 'cpu'\n",
    "print(f\"Using device: {device}\")\n",
    "\n",
    "# Initialize the Sentence-BERT model\n",
    "model = SentenceTransformer('paraphrase-MiniLM-L6-v2', device=device)  # or another model\n",
    "\n",
    "# Vectorize the combined text (convert text into embeddings)\n",
    "product_embeddings = model.encode(product_df['combined_text'].dropna().tolist())\n",
    "print(\"code finished!!\")\n",
    "\n",
    "embedding_dim = product_embeddings.shape[1]\n",
    "if not os.path.exists('product_index.ann'):\n",
    "    print(\"Building index because it doesn't exist.\")\n",
    "    ProductSearchEngine.build_index(product_embeddings, 'product_index.ann')\n",
    "\n",
    "# Load the index and search\n",
    "engine = ProductSearchEngine(embedding_dim=embedding_dim, index_path='product_index.ann', product_df=product_df)\n",
    "\n",
    "query = \"iPhone 12 case\"\n",
    "query_embedding = model.encode([query])[0]\n",
    "results_df = engine.search(query_embedding, k=5)\n",
    "print(results_df)\n"
   ]
  },
  {
   "cell_type": "code",
   "execution_count": 28,
   "metadata": {},
   "outputs": [
    {
     "name": "stdout",
     "output_type": "stream",
     "text": [
      "Auriculares Bluetooth Auriculares Inalámbricos Bluetooth táctiles 3D estéreo HD Micrófono Auricular Emparejamiento Automático de llamadas Binaurales para Apple Airpods Pro Android iPhone 11\n",
      "AirPods Case Protective, FRTMA Silicone Skin Case with Sport Strap for Apple AirPods (Red)\n",
      "FRTMA Protective Case Compatible with AirPods Pro [2019 Release], Full-Body Waterproof Protective AirPods Carrying Case Shockproof Cover Skin Supports AirPods 3, Midnight Blue\n",
      "Auriculares Inalámbricos Bluetooth 5.0 con Caja de Carga Rápida, HIFI Estéreo Auriculares con HD Mic, Auriculares Inalámbricos para iPhone Airpods pro Samsung Android y Otros Teléfonos Inteligentes\n",
      "fghdjjfdh Auriculares Bluetooth, Auriculares inalámbricos Bluetooth In-Ear Mini Auriculares Auriculares Deportivos para Apple Airpods iPhone, Android Negro\n"
     ]
    }
   ],
   "source": [
    "query = \"AirPods 3 Iphone 12\"\n",
    "query_embedding = model.encode([query])[0]\n",
    "results_df = engine.search(query_embedding, k=5)\n",
    "for title in results_df[\"Product Title\"]:\n",
    "    print(title)\n",
    "\n"
   ]
  },
  {
   "cell_type": "code",
   "execution_count": 12,
   "metadata": {},
   "outputs": [
    {
     "data": {
      "text/plain": [
       "True"
      ]
     },
     "execution_count": 12,
     "metadata": {},
     "output_type": "execute_result"
    }
   ],
   "source": [
    "\n",
    "# Step 5: Build the Annoy Index\n",
    "# Initialize the Annoy index\n",
    "vector_dimension = len(product_embeddings[0])  # The length of the product vector (embedding)\n",
    "annoy_index = AnnoyIndex(vector_dimension, 'angular')  # 'angular' corresponds to cosine similarity\n",
    "\n",
    "# Add product vectors to the Annoy index\n",
    "for i, vector in enumerate(product_embeddings):\n",
    "    annoy_index.add_item(i, vector)\n",
    "\n",
    "# Build the Annoy index (this process might take time depending on the number of products)\n",
    "annoy_index.build(100)  # 10 trees for a balance between speed and accuracy\n",
    "\n",
    "# Step 6: Query the Annoy Index\n"
   ]
  },
  {
   "cell_type": "code",
   "execution_count": 11,
   "metadata": {},
   "outputs": [
    {
     "name": "stdout",
     "output_type": "stream",
     "text": [
      "Query: iPhone 12 case\n",
      "\n",
      "Most similar products:\n",
      "   Product ID                                      Product Title  Distance\n",
      "0  B07Q41TS53  Samsung Galaxy A70 - Smartphone 4G (6,7'' - 12...    1.1598\n",
      "1  B07Z6223Q3  AGPTEK 4 EN 1 Hub USB C para iPad Pro 2018, 20...    1.2136\n",
      "2  B081GW9SF4  Adaptador de Auriculares para iPhone X Adaptad...    1.2183\n",
      "3  B07TVDJWJJ  Adaptador de Auriculares para iPhone Adaptador...    1.2308\n",
      "4  B07YTLW74W  Adaptador de Auriculares para iPhone X Adaptad...    1.2336\n"
     ]
    }
   ],
   "source": [
    "# Example query from the user\n",
    "query = \"iPhone 12 case\"\n",
    "\n",
    "# Step 6.1: Vectorize the query using the same Sentence-BERT model\n",
    "query_embedding = model.encode([query])[0]  # Convert the query into a vector (embedding)\n",
    "\n",
    "# Step 6.2: Search for the most similar products (k nearest neighbors)\n",
    "k = 5  # Number of nearest neighbors to retrieve\n",
    "nearest_neighbors = annoy_index.get_nns_by_vector(query_embedding, k, include_distances=True)\n",
    "\n",
    "# Step 7: Output the results\n",
    "print(f\"Query: {query}\")\n",
    "print(\"\\nMost similar products:\")\n",
    "\n",
    "# Prepare structured data for display\n",
    "results = []\n",
    "for idx, dist in zip(nearest_neighbors[0], nearest_neighbors[1]):\n",
    "    results.append({\n",
    "        \"Product ID\": product_df['product_id'][idx],\n",
    "        \"Product Title\": product_df['product_title'][idx],\n",
    "        \"Distance\": round(dist, 4)\n",
    "    })\n",
    "\n",
    "# Convert to DataFrame for a clean tabular view\n",
    "results_df = pd.DataFrame(results)\n",
    "print(results_df.head())\n"
   ]
  }
 ],
 "metadata": {
  "kernelspec": {
   "display_name": "Python 3",
   "language": "python",
   "name": "python3"
  },
  "language_info": {
   "codemirror_mode": {
    "name": "ipython",
    "version": 3
   },
   "file_extension": ".py",
   "mimetype": "text/x-python",
   "name": "python",
   "nbconvert_exporter": "python",
   "pygments_lexer": "ipython3",
   "version": "3.9.6"
  }
 },
 "nbformat": 4,
 "nbformat_minor": 2
}
