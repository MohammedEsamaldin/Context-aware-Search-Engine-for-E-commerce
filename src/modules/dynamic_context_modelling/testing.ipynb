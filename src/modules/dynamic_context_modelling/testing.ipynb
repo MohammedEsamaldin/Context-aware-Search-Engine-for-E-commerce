{
 "cells": [
  {
   "cell_type": "code",
   "execution_count": 4,
   "metadata": {},
   "outputs": [
    {
     "name": "stdout",
     "output_type": "stream",
     "text": [
      "user002 => Vector Shape: (384,), Example values: [-0.32872894  0.28878078  0.11555298 -0.08096661  0.11031757]\n"
     ]
    }
   ],
   "source": [
    "import json\n",
    "from Session_Graph_Builder import SessionGraphEmbedder, SessionGraphBuilder ,UserProfileEmbedder, ContextFusion\n",
    "# Load your data (example: from json files)\n",
    "with open(\"/Users/mohammed/Desktop/Context-aware-Search-Engine-for-E-commerce-1/data/processed/sessions.json\") as f:\n",
    "    session_data = json.load(f)\n",
    "\n",
    "with open(\"/Users/mohammed/Desktop/Context-aware-Search-Engine-for-E-commerce-1/data/processed/users.json\") as f:\n",
    "    user_data = json.load(f)\n",
    "\n",
    "# Build session graph (optional if using weights from dataset)\n",
    "graph_builder = SessionGraphBuilder()\n",
    "session_graphs = graph_builder.build_graph(session_data)\n",
    "\n",
    "# Embed session transitions\n",
    "session_embedder = SessionGraphEmbedder()\n",
    "session_vectors = session_embedder.embed_session_graphs(session_data)\n",
    "\n",
    "# Embed user profiles\n",
    "user_embedder = UserProfileEmbedder()\n",
    "user_vectors = user_embedder.embed_users(user_data)\n",
    "\n",
    "# Fuse embeddings into unified context vector per user\n",
    "fuser = ContextFusion(alpha=0.5)\n",
    "context_vectors = fuser.fuse(session_vectors, user_vectors)\n",
    "\n",
    "# Example: Get the context vector for a specific user\n",
    "target_user_id = \"user002\"\n",
    "\n",
    "if target_user_id in context_vectors:\n",
    "    vec = context_vectors[target_user_id]\n",
    "    print(f\"{target_user_id} => Vector Shape: {vec.shape}, Example values: {vec[:5]}\")\n",
    "else:\n",
    "    print(f\"User {target_user_id} not found in context vectors.\")\n",
    "\n",
    "\n"
   ]
  },
  {
   "cell_type": "code",
   "execution_count": null,
   "metadata": {},
   "outputs": [],
   "source": []
  }
 ],
 "metadata": {
  "kernelspec": {
   "display_name": "Python 3",
   "language": "python",
   "name": "python3"
  },
  "language_info": {
   "codemirror_mode": {
    "name": "ipython",
    "version": 3
   },
   "file_extension": ".py",
   "mimetype": "text/x-python",
   "name": "python",
   "nbconvert_exporter": "python",
   "pygments_lexer": "ipython3",
   "version": "3.9.6"
  }
 },
 "nbformat": 4,
 "nbformat_minor": 2
}
