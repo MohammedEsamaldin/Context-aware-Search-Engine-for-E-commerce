{
 "cells": [
  {
   "cell_type": "code",
   "execution_count": 1,
   "metadata": {},
   "outputs": [],
   "source": [
    "import pandas as pd"
   ]
  },
  {
   "cell_type": "code",
   "execution_count": 2,
   "metadata": {},
   "outputs": [
    {
     "data": {
      "text/html": [
       "<div>\n",
       "<style scoped>\n",
       "    .dataframe tbody tr th:only-of-type {\n",
       "        vertical-align: middle;\n",
       "    }\n",
       "\n",
       "    .dataframe tbody tr th {\n",
       "        vertical-align: top;\n",
       "    }\n",
       "\n",
       "    .dataframe thead th {\n",
       "        text-align: right;\n",
       "    }\n",
       "</style>\n",
       "<table border=\"1\" class=\"dataframe\">\n",
       "  <thead>\n",
       "    <tr style=\"text-align: right;\">\n",
       "      <th></th>\n",
       "      <th>product_id</th>\n",
       "      <th>product_title</th>\n",
       "      <th>product_description</th>\n",
       "      <th>product_bullet_point</th>\n",
       "      <th>product_brand</th>\n",
       "      <th>product_color</th>\n",
       "      <th>product_locale</th>\n",
       "    </tr>\n",
       "  </thead>\n",
       "  <tbody>\n",
       "    <tr>\n",
       "      <th>0</th>\n",
       "      <td>B079VKKJN7</td>\n",
       "      <td>11 Degrees de los Hombres Playera con Logo, Ne...</td>\n",
       "      <td>Esta playera con el logo de la marca Carrier d...</td>\n",
       "      <td>11 Degrees Negro Playera con logo\\nA estrenar ...</td>\n",
       "      <td>11 Degrees</td>\n",
       "      <td>Negro</td>\n",
       "      <td>es</td>\n",
       "    </tr>\n",
       "    <tr>\n",
       "      <th>1</th>\n",
       "      <td>B079Y9VRKS</td>\n",
       "      <td>Camiseta Eleven Degrees Core TS White (M)</td>\n",
       "      <td>None</td>\n",
       "      <td>None</td>\n",
       "      <td>11 Degrees</td>\n",
       "      <td>Blanco</td>\n",
       "      <td>es</td>\n",
       "    </tr>\n",
       "    <tr>\n",
       "      <th>2</th>\n",
       "      <td>B07DP4LM9H</td>\n",
       "      <td>11 Degrees de los Hombres Core Pull Over Hoodi...</td>\n",
       "      <td>La sudadera con capucha Core Pull Over de 11 G...</td>\n",
       "      <td>11 Degrees Azul Core Pull Over Hoodie\\nA estre...</td>\n",
       "      <td>11 Degrees</td>\n",
       "      <td>Azul</td>\n",
       "      <td>es</td>\n",
       "    </tr>\n",
       "    <tr>\n",
       "      <th>3</th>\n",
       "      <td>B07G37B9HP</td>\n",
       "      <td>11 Degrees Poli Panel Track Pant XL Black</td>\n",
       "      <td>None</td>\n",
       "      <td>None</td>\n",
       "      <td>11 Degrees</td>\n",
       "      <td>None</td>\n",
       "      <td>es</td>\n",
       "    </tr>\n",
       "    <tr>\n",
       "      <th>4</th>\n",
       "      <td>B07LCTGDHY</td>\n",
       "      <td>11 Degrees Gorra Trucker Negro OSFA (Talla úni...</td>\n",
       "      <td>None</td>\n",
       "      <td>None</td>\n",
       "      <td>11 Degrees</td>\n",
       "      <td>Negro (</td>\n",
       "      <td>es</td>\n",
       "    </tr>\n",
       "  </tbody>\n",
       "</table>\n",
       "</div>"
      ],
      "text/plain": [
       "   product_id                                      product_title  \\\n",
       "0  B079VKKJN7  11 Degrees de los Hombres Playera con Logo, Ne...   \n",
       "1  B079Y9VRKS          Camiseta Eleven Degrees Core TS White (M)   \n",
       "2  B07DP4LM9H  11 Degrees de los Hombres Core Pull Over Hoodi...   \n",
       "3  B07G37B9HP          11 Degrees Poli Panel Track Pant XL Black   \n",
       "4  B07LCTGDHY  11 Degrees Gorra Trucker Negro OSFA (Talla úni...   \n",
       "\n",
       "                                 product_description  \\\n",
       "0  Esta playera con el logo de la marca Carrier d...   \n",
       "1                                               None   \n",
       "2  La sudadera con capucha Core Pull Over de 11 G...   \n",
       "3                                               None   \n",
       "4                                               None   \n",
       "\n",
       "                                product_bullet_point product_brand  \\\n",
       "0  11 Degrees Negro Playera con logo\\nA estrenar ...    11 Degrees   \n",
       "1                                               None    11 Degrees   \n",
       "2  11 Degrees Azul Core Pull Over Hoodie\\nA estre...    11 Degrees   \n",
       "3                                               None    11 Degrees   \n",
       "4                                               None    11 Degrees   \n",
       "\n",
       "  product_color product_locale  \n",
       "0         Negro             es  \n",
       "1        Blanco             es  \n",
       "2          Azul             es  \n",
       "3          None             es  \n",
       "4       Negro (             es  "
      ]
     },
     "execution_count": 2,
     "metadata": {},
     "output_type": "execute_result"
    }
   ],
   "source": [
    "df_products = pd.read_parquet('raw/shopping_queries_dataset_products.parquet')\n",
    "df_products.head()"
   ]
  },
  {
   "cell_type": "code",
   "execution_count": 15,
   "metadata": {},
   "outputs": [],
   "source": [
    "## Filter only 1000 subset to prevent overly large file size\n",
    "# Product_description != None, product_locale = 'us'\n",
    "df_filtered = df_products[\n",
    "    (df_products['product_description'].notnull())  \n",
    "    & (df_products['product_locale'] == 'us')\n",
    "].sample(n=1000, random_state=42)"
   ]
  },
  {
   "cell_type": "code",
   "execution_count": 16,
   "metadata": {},
   "outputs": [],
   "source": [
    "## Save filtered df \n",
    "output_path = 'processed/products.json'\n",
    "df_filtered.to_json(output_path, orient='records', lines=True)"
   ]
  },
  {
   "cell_type": "code",
   "execution_count": 23,
   "metadata": {},
   "outputs": [
    {
     "data": {
      "text/plain": [
       "1393112    🍀【CLASSIC HOME DECOR】The Chinese Ceramic Jar i...\n",
       "850629     ◆[Suitable for style]：TRANSFORM THE LOOK OF YO...\n",
       "823090     10,000 BTU input\\n6 gal. cut-out: 12-3/4\"H x 1...\n",
       "851741     1/2\" NPT Male (Actual O.D: 0.840\") x 1/4\" NPT ...\n",
       "1708830    Fabric has some stretchy, soft, lightweight, s...\n",
       "918813     All Metal\\nSits on Hexagonal base showing 12 t...\n",
       "195757     SATISFACTION GUARANTEE - If at any point in ti...\n",
       "1366108                            hickory smoked beef jerky\n",
       "457807     NEW COMPACT DESIGN - KastKing Royale Legend Se...\n",
       "722763                                                  None\n",
       "Name: product_bullet_point, dtype: object"
      ]
     },
     "execution_count": 23,
     "metadata": {},
     "output_type": "execute_result"
    }
   ],
   "source": [
    "df_filtered.product_bullet_point.head(10)"
   ]
  },
  {
   "cell_type": "code",
   "execution_count": null,
   "metadata": {},
   "outputs": [],
   "source": []
  }
 ],
 "metadata": {
  "kernelspec": {
   "display_name": "py310",
   "language": "python",
   "name": "python3"
  },
  "language_info": {
   "codemirror_mode": {
    "name": "ipython",
    "version": 3
   },
   "file_extension": ".py",
   "mimetype": "text/x-python",
   "name": "python",
   "nbconvert_exporter": "python",
   "pygments_lexer": "ipython3",
   "version": "3.10.11"
  }
 },
 "nbformat": 4,
 "nbformat_minor": 2
}
